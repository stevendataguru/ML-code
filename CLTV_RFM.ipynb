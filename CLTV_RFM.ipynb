{
 "cells": [
  {
   "cell_type": "markdown",
   "id": "4bc82429-5943-45fd-9e56-300e3bc376c4",
   "metadata": {},
   "source": [
    "# 2: Gamma Gamma Model"
   ]
  },
  {
   "cell_type": "markdown",
   "id": "3c1999e6-076a-4948-bd84-8b98cda7e2b3",
   "metadata": {},
   "source": [
    "When to use Gamma Gamma model: The model we are going to use to estimate the CLV for our userbase is called the Gamma-Gamma submodel, which relies upon an important assumption. The Gamma-Gamma submodel, in fact, assumes that there is no relationship between the monetary value and the purchase frequency. In practice we need to check whether the Pearson correlation between the two vectors is close to 0 in order to use this model. See # returning_customers_summary[['monetary_value', 'frequency']].corr()"
   ]
  },
  {
   "cell_type": "code",
   "execution_count": 1,
   "id": "6644c990-c8ca-40dd-bac0-e2fdbafe1ae2",
   "metadata": {},
   "outputs": [],
   "source": [
    "from lifetimes.datasets import load_cdnow_summary_data_with_monetary_value\n",
    "import pandas as pd"
   ]
  },
  {
   "cell_type": "code",
   "execution_count": 2,
   "id": "7aa1cbbe-a944-47ac-8f1e-64a191715c2f",
   "metadata": {},
   "outputs": [],
   "source": [
    "# Use real data\n",
    "# data.head()\n",
    "# new_names = {\n",
    "#    'Recency': 'recency',\n",
    "#    'Frequency': 'frequency',\n",
    "#    'Monetary': 'monetary_value'\n",
    "# }\n",
    "\n",
    "# Rename columns using rename() function\n",
    "# data = data.rename(columns=new_names)\n",
    "# data.head()"
   ]
  },
  {
   "cell_type": "code",
   "execution_count": 3,
   "id": "62230306-0862-4b3c-b952-6ba48b74a7a8",
   "metadata": {},
   "outputs": [],
   "source": [
    "summary_with_money_value = load_cdnow_summary_data_with_monetary_value()\n",
    "summary_with_money_value.head()\n",
    "returning_customers_summary = summary_with_money_value[summary_with_money_value['frequency']>0]"
   ]
  },
  {
   "cell_type": "code",
   "execution_count": 4,
   "id": "a28f60a4-9c7f-4e8f-9f27-6f50a8a9adeb",
   "metadata": {},
   "outputs": [
    {
     "name": "stdout",
     "output_type": "stream",
     "text": [
      "             frequency  recency      T  monetary_value\n",
      "customer_id                                           \n",
      "1                    2    30.43  38.86           22.35\n",
      "2                    1     1.71  38.86           11.77\n",
      "6                    7    29.43  38.86           73.74\n",
      "7                    1     5.00  38.86           11.77\n",
      "9                    2    35.71  38.86           25.55\n"
     ]
    }
   ],
   "source": [
    "print(returning_customers_summary.head())"
   ]
  },
  {
   "cell_type": "code",
   "execution_count": 5,
   "id": "a0b69c34-8aad-4c05-adc0-53c1c38135d3",
   "metadata": {},
   "outputs": [
    {
     "data": {
      "text/html": [
       "<div>\n",
       "<style scoped>\n",
       "    .dataframe tbody tr th:only-of-type {\n",
       "        vertical-align: middle;\n",
       "    }\n",
       "\n",
       "    .dataframe tbody tr th {\n",
       "        vertical-align: top;\n",
       "    }\n",
       "\n",
       "    .dataframe thead th {\n",
       "        text-align: right;\n",
       "    }\n",
       "</style>\n",
       "<table border=\"1\" class=\"dataframe\">\n",
       "  <thead>\n",
       "    <tr style=\"text-align: right;\">\n",
       "      <th></th>\n",
       "      <th>monetary_value</th>\n",
       "      <th>frequency</th>\n",
       "    </tr>\n",
       "  </thead>\n",
       "  <tbody>\n",
       "    <tr>\n",
       "      <th>monetary_value</th>\n",
       "      <td>1.000000</td>\n",
       "      <td>0.113884</td>\n",
       "    </tr>\n",
       "    <tr>\n",
       "      <th>frequency</th>\n",
       "      <td>0.113884</td>\n",
       "      <td>1.000000</td>\n",
       "    </tr>\n",
       "  </tbody>\n",
       "</table>\n",
       "</div>"
      ],
      "text/plain": [
       "                monetary_value  frequency\n",
       "monetary_value        1.000000   0.113884\n",
       "frequency             0.113884   1.000000"
      ]
     },
     "execution_count": 5,
     "metadata": {},
     "output_type": "execute_result"
    }
   ],
   "source": [
    "returning_customers_summary[['monetary_value', 'frequency']].corr()"
   ]
  },
  {
   "cell_type": "code",
   "execution_count": 6,
   "id": "3b4be830-014d-4faf-b531-7813b05df129",
   "metadata": {},
   "outputs": [],
   "source": [
    "from lifetimes import GammaGammaFitter\n",
    "from lifetimes import BetaGeoFitter"
   ]
  },
  {
   "cell_type": "code",
   "execution_count": 7,
   "id": "50a75b1a-cf1f-4418-8978-68a6153d22e4",
   "metadata": {},
   "outputs": [
    {
     "name": "stdout",
     "output_type": "stream",
     "text": [
      "<lifetimes.GammaGammaFitter: fitted with 946 subjects, p: 6.25, q: 3.74, v: 15.45>\n"
     ]
    }
   ],
   "source": [
    "ggf = GammaGammaFitter(penalizer_coef = 0)\n",
    "ggf.fit(returning_customers_summary['frequency'],\n",
    "        returning_customers_summary['monetary_value'])\n",
    "print(ggf)"
   ]
  },
  {
   "cell_type": "code",
   "execution_count": 8,
   "id": "013cd8fc-cf06-44cc-ad63-80493555408d",
   "metadata": {},
   "outputs": [],
   "source": [
    "from lifetimes import BetaGeoFitter\n",
    "\n",
    "# similar API to scikit-learn and lifelines.\n",
    "bgf = BetaGeoFitter()"
   ]
  },
  {
   "cell_type": "code",
   "execution_count": 9,
   "id": "9c5d53bc-7255-404a-8c60-ec2754f3034c",
   "metadata": {},
   "outputs": [
    {
     "data": {
      "text/plain": [
       "<lifetimes.BetaGeoFitter: fitted with 2357 subjects, a: 0.79, alpha: 4.41, b: 2.43, r: 0.24>"
      ]
     },
     "execution_count": 9,
     "metadata": {},
     "output_type": "execute_result"
    }
   ],
   "source": [
    "# refit the BG model to the summary_with_money_value dataset\n",
    "bgf.fit(summary_with_money_value['frequency'], summary_with_money_value['recency'], summary_with_money_value['T'])"
   ]
  },
  {
   "cell_type": "code",
   "execution_count": 10,
   "id": "f39b9f49-5b14-47f5-ab79-259e1f74c292",
   "metadata": {},
   "outputs": [],
   "source": [
    "# change months and discount rate!!!!!"
   ]
  },
  {
   "cell_type": "code",
   "execution_count": 11,
   "id": "7120e475-ace3-440c-86e3-5254cb132339",
   "metadata": {},
   "outputs": [],
   "source": [
    "clv = ggf.customer_lifetime_value(\n",
    "    bgf, #the model to use to predict the number of future transactions\n",
    "    summary_with_money_value['frequency'],\n",
    "    summary_with_money_value['recency'],\n",
    "    summary_with_money_value['T'],\n",
    "    summary_with_money_value['monetary_value'],\n",
    "    time=12, # months\n",
    "    discount_rate=0.0127 # monthly discount rate ~ 12.7% annually\n",
    ")"
   ]
  },
  {
   "cell_type": "code",
   "execution_count": 12,
   "id": "9bdbfb4d-ec0f-4044-a2b6-ba119de6666a",
   "metadata": {},
   "outputs": [
    {
     "data": {
      "text/html": [
       "<div>\n",
       "<style scoped>\n",
       "    .dataframe tbody tr th:only-of-type {\n",
       "        vertical-align: middle;\n",
       "    }\n",
       "\n",
       "    .dataframe tbody tr th {\n",
       "        vertical-align: top;\n",
       "    }\n",
       "\n",
       "    .dataframe thead th {\n",
       "        text-align: right;\n",
       "    }\n",
       "</style>\n",
       "<table border=\"1\" class=\"dataframe\">\n",
       "  <thead>\n",
       "    <tr style=\"text-align: right;\">\n",
       "      <th></th>\n",
       "      <th>frequency</th>\n",
       "      <th>recency</th>\n",
       "      <th>T</th>\n",
       "      <th>monetary_value</th>\n",
       "    </tr>\n",
       "    <tr>\n",
       "      <th>customer_id</th>\n",
       "      <th></th>\n",
       "      <th></th>\n",
       "      <th></th>\n",
       "      <th></th>\n",
       "    </tr>\n",
       "  </thead>\n",
       "  <tbody>\n",
       "    <tr>\n",
       "      <th>1</th>\n",
       "      <td>2</td>\n",
       "      <td>30.43</td>\n",
       "      <td>38.86</td>\n",
       "      <td>22.35</td>\n",
       "    </tr>\n",
       "    <tr>\n",
       "      <th>2</th>\n",
       "      <td>1</td>\n",
       "      <td>1.71</td>\n",
       "      <td>38.86</td>\n",
       "      <td>11.77</td>\n",
       "    </tr>\n",
       "    <tr>\n",
       "      <th>3</th>\n",
       "      <td>0</td>\n",
       "      <td>0.00</td>\n",
       "      <td>38.86</td>\n",
       "      <td>0.00</td>\n",
       "    </tr>\n",
       "    <tr>\n",
       "      <th>4</th>\n",
       "      <td>0</td>\n",
       "      <td>0.00</td>\n",
       "      <td>38.86</td>\n",
       "      <td>0.00</td>\n",
       "    </tr>\n",
       "    <tr>\n",
       "      <th>5</th>\n",
       "      <td>0</td>\n",
       "      <td>0.00</td>\n",
       "      <td>38.86</td>\n",
       "      <td>0.00</td>\n",
       "    </tr>\n",
       "    <tr>\n",
       "      <th>...</th>\n",
       "      <td>...</td>\n",
       "      <td>...</td>\n",
       "      <td>...</td>\n",
       "      <td>...</td>\n",
       "    </tr>\n",
       "    <tr>\n",
       "      <th>2353</th>\n",
       "      <td>0</td>\n",
       "      <td>0.00</td>\n",
       "      <td>27.00</td>\n",
       "      <td>0.00</td>\n",
       "    </tr>\n",
       "    <tr>\n",
       "      <th>2354</th>\n",
       "      <td>5</td>\n",
       "      <td>24.29</td>\n",
       "      <td>27.00</td>\n",
       "      <td>44.93</td>\n",
       "    </tr>\n",
       "    <tr>\n",
       "      <th>2355</th>\n",
       "      <td>0</td>\n",
       "      <td>0.00</td>\n",
       "      <td>27.00</td>\n",
       "      <td>0.00</td>\n",
       "    </tr>\n",
       "    <tr>\n",
       "      <th>2356</th>\n",
       "      <td>4</td>\n",
       "      <td>26.57</td>\n",
       "      <td>27.00</td>\n",
       "      <td>33.32</td>\n",
       "    </tr>\n",
       "    <tr>\n",
       "      <th>2357</th>\n",
       "      <td>0</td>\n",
       "      <td>0.00</td>\n",
       "      <td>27.00</td>\n",
       "      <td>0.00</td>\n",
       "    </tr>\n",
       "  </tbody>\n",
       "</table>\n",
       "<p>2357 rows × 4 columns</p>\n",
       "</div>"
      ],
      "text/plain": [
       "             frequency  recency      T  monetary_value\n",
       "customer_id                                           \n",
       "1                    2    30.43  38.86           22.35\n",
       "2                    1     1.71  38.86           11.77\n",
       "3                    0     0.00  38.86            0.00\n",
       "4                    0     0.00  38.86            0.00\n",
       "5                    0     0.00  38.86            0.00\n",
       "...                ...      ...    ...             ...\n",
       "2353                 0     0.00  27.00            0.00\n",
       "2354                 5    24.29  27.00           44.93\n",
       "2355                 0     0.00  27.00            0.00\n",
       "2356                 4    26.57  27.00           33.32\n",
       "2357                 0     0.00  27.00            0.00\n",
       "\n",
       "[2357 rows x 4 columns]"
      ]
     },
     "execution_count": 12,
     "metadata": {},
     "output_type": "execute_result"
    }
   ],
   "source": [
    "summary_with_money_value"
   ]
  },
  {
   "cell_type": "code",
   "execution_count": 13,
   "id": "820d8193-d7ce-462e-8e19-21233b25f028",
   "metadata": {},
   "outputs": [],
   "source": [
    "summary_with_clv = summary_with_money_value.copy()  # Make a copy of original DataFrame"
   ]
  },
  {
   "cell_type": "code",
   "execution_count": 14,
   "id": "47fa26d8-65f2-4d79-8ec7-26c439cc4af2",
   "metadata": {},
   "outputs": [],
   "source": [
    "# Append CLV values to the copy of the original DataFrame\n",
    "summary_with_clv['CLV'] = clv"
   ]
  },
  {
   "cell_type": "code",
   "execution_count": 15,
   "id": "9def00e3-4777-42f2-9b60-6c56c61b2087",
   "metadata": {},
   "outputs": [
    {
     "name": "stdout",
     "output_type": "stream",
     "text": [
      "             frequency  recency      T  monetary_value         CLV\n",
      "customer_id                                                       \n",
      "1                    2    30.43  38.86           22.35  138.208161\n",
      "2                    1     1.71  38.86           11.77   18.681684\n",
      "3                    0     0.00  38.86            0.00   37.626436\n",
      "4                    0     0.00  38.86            0.00   37.626436\n",
      "5                    0     0.00  38.86            0.00   37.626436\n",
      "6                    7    29.43  38.86           73.74  990.859176\n",
      "7                    1     5.00  38.86           11.77   27.721229\n",
      "8                    0     0.00  38.86            0.00   37.626436\n",
      "9                    2    35.71  38.86           25.55  165.161952\n",
      "10                   0     0.00  38.86            0.00   37.626436\n"
     ]
    }
   ],
   "source": [
    "# Display the first 10 rows of the DataFrame with CLV values\n",
    "print(summary_with_clv.head(10))"
   ]
  },
  {
   "cell_type": "code",
   "execution_count": 16,
   "id": "952268a7-a8e4-444b-b33c-b132914a8bd3",
   "metadata": {},
   "outputs": [],
   "source": [
    "# Export the DataFrame with CLV as CSV\n",
    "summary_with_clv.to_csv('CLTV_RFM.csv', index=False, encoding='utf_8_sig')"
   ]
  },
  {
   "cell_type": "code",
   "execution_count": null,
   "id": "72f385e9-6c41-4284-b600-1b5a170b2276",
   "metadata": {},
   "outputs": [],
   "source": []
  },
  {
   "cell_type": "code",
   "execution_count": null,
   "id": "200d3abd-2919-46a5-9f64-4c8ebb423569",
   "metadata": {},
   "outputs": [],
   "source": []
  }
 ],
 "metadata": {
  "kernelspec": {
   "display_name": "Python 3 (ipykernel)",
   "language": "python",
   "name": "python3"
  },
  "language_info": {
   "codemirror_mode": {
    "name": "ipython",
    "version": 3
   },
   "file_extension": ".py",
   "mimetype": "text/x-python",
   "name": "python",
   "nbconvert_exporter": "python",
   "pygments_lexer": "ipython3",
   "version": "3.11.7"
  }
 },
 "nbformat": 4,
 "nbformat_minor": 5
}
